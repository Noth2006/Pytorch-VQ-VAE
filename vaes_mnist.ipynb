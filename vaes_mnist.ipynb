{
 "cells": [
  {
   "cell_type": "code",
   "execution_count": 1,
   "id": "cd719351",
   "metadata": {
    "_cell_guid": "b1076dfc-b9ad-4769-8c92-a6c4dae69d19",
    "_uuid": "8f2839f25d086af736a60e9eeb907d3b93b6e0e5",
    "execution": {
     "iopub.execute_input": "2025-07-31T19:54:06.354817Z",
     "iopub.status.busy": "2025-07-31T19:54:06.354563Z",
     "iopub.status.idle": "2025-07-31T19:54:07.800975Z",
     "shell.execute_reply": "2025-07-31T19:54:07.800144Z"
    },
    "papermill": {
     "duration": 1.453597,
     "end_time": "2025-07-31T19:54:07.802227",
     "exception": false,
     "start_time": "2025-07-31T19:54:06.348630",
     "status": "completed"
    },
    "tags": []
   },
   "outputs": [
    {
     "name": "stdout",
     "output_type": "stream",
     "text": [
      "/kaggle/input/digit-recognizer/sample_submission.csv\n",
      "/kaggle/input/digit-recognizer/train.csv\n",
      "/kaggle/input/digit-recognizer/test.csv\n"
     ]
    }
   ],
   "source": [
    "# This Python 3 environment comes with many helpful analytics libraries installed\n",
    "# It is defined by the kaggle/python Docker image: https://github.com/kaggle/docker-python\n",
    "# For example, here's several helpful packages to load\n",
    "\n",
    "import numpy as np # linear algebra\n",
    "import pandas as pd # data processing, CSV file I/O (e.g. pd.read_csv)\n",
    "\n",
    "# Input data files are available in the read-only \"../input/\" directory\n",
    "# For example, running this (by clicking run or pressing Shift+Enter) will list all files under the input directory\n",
    "\n",
    "import os\n",
    "for dirname, _, filenames in os.walk('/kaggle/input'):\n",
    "    for filename in filenames:\n",
    "        print(os.path.join(dirname, filename))\n",
    "\n",
    "# You can write up to 20GB to the current directory (/kaggle/working/) that gets preserved as output when you create a version using \"Save & Run All\" \n",
    "# You can also write temporary files to /kaggle/temp/, but they won't be saved outside of the current session"
   ]
  },
  {
   "cell_type": "code",
   "execution_count": 2,
   "id": "7749836e",
   "metadata": {
    "execution": {
     "iopub.execute_input": "2025-07-31T19:54:07.812877Z",
     "iopub.status.busy": "2025-07-31T19:54:07.812567Z",
     "iopub.status.idle": "2025-07-31T19:55:24.754837Z",
     "shell.execute_reply": "2025-07-31T19:55:24.753935Z"
    },
    "papermill": {
     "duration": 76.949379,
     "end_time": "2025-07-31T19:55:24.756450",
     "exception": false,
     "start_time": "2025-07-31T19:54:07.807071",
     "status": "completed"
    },
    "tags": []
   },
   "outputs": [
    {
     "name": "stdout",
     "output_type": "stream",
     "text": [
      "Requirement already satisfied: torchvision in /usr/local/lib/python3.11/dist-packages (0.21.0+cu124)\r\n",
      "Requirement already satisfied: numpy in /usr/local/lib/python3.11/dist-packages (from torchvision) (1.26.4)\r\n",
      "Requirement already satisfied: torch==2.6.0 in /usr/local/lib/python3.11/dist-packages (from torchvision) (2.6.0+cu124)\r\n",
      "Requirement already satisfied: pillow!=8.3.*,>=5.3.0 in /usr/local/lib/python3.11/dist-packages (from torchvision) (11.2.1)\r\n",
      "Requirement already satisfied: filelock in /usr/local/lib/python3.11/dist-packages (from torch==2.6.0->torchvision) (3.18.0)\r\n",
      "Requirement already satisfied: typing-extensions>=4.10.0 in /usr/local/lib/python3.11/dist-packages (from torch==2.6.0->torchvision) (4.14.0)\r\n",
      "Requirement already satisfied: networkx in /usr/local/lib/python3.11/dist-packages (from torch==2.6.0->torchvision) (3.5)\r\n",
      "Requirement already satisfied: jinja2 in /usr/local/lib/python3.11/dist-packages (from torch==2.6.0->torchvision) (3.1.6)\r\n",
      "Requirement already satisfied: fsspec in /usr/local/lib/python3.11/dist-packages (from torch==2.6.0->torchvision) (2025.5.1)\r\n",
      "Collecting nvidia-cuda-nvrtc-cu12==12.4.127 (from torch==2.6.0->torchvision)\r\n",
      "  Downloading nvidia_cuda_nvrtc_cu12-12.4.127-py3-none-manylinux2014_x86_64.whl.metadata (1.5 kB)\r\n",
      "Collecting nvidia-cuda-runtime-cu12==12.4.127 (from torch==2.6.0->torchvision)\r\n",
      "  Downloading nvidia_cuda_runtime_cu12-12.4.127-py3-none-manylinux2014_x86_64.whl.metadata (1.5 kB)\r\n",
      "Collecting nvidia-cuda-cupti-cu12==12.4.127 (from torch==2.6.0->torchvision)\r\n",
      "  Downloading nvidia_cuda_cupti_cu12-12.4.127-py3-none-manylinux2014_x86_64.whl.metadata (1.6 kB)\r\n",
      "Collecting nvidia-cudnn-cu12==9.1.0.70 (from torch==2.6.0->torchvision)\r\n",
      "  Downloading nvidia_cudnn_cu12-9.1.0.70-py3-none-manylinux2014_x86_64.whl.metadata (1.6 kB)\r\n",
      "Collecting nvidia-cublas-cu12==12.4.5.8 (from torch==2.6.0->torchvision)\r\n",
      "  Downloading nvidia_cublas_cu12-12.4.5.8-py3-none-manylinux2014_x86_64.whl.metadata (1.5 kB)\r\n",
      "Collecting nvidia-cufft-cu12==11.2.1.3 (from torch==2.6.0->torchvision)\r\n",
      "  Downloading nvidia_cufft_cu12-11.2.1.3-py3-none-manylinux2014_x86_64.whl.metadata (1.5 kB)\r\n",
      "Collecting nvidia-curand-cu12==10.3.5.147 (from torch==2.6.0->torchvision)\r\n",
      "  Downloading nvidia_curand_cu12-10.3.5.147-py3-none-manylinux2014_x86_64.whl.metadata (1.5 kB)\r\n",
      "Collecting nvidia-cusolver-cu12==11.6.1.9 (from torch==2.6.0->torchvision)\r\n",
      "  Downloading nvidia_cusolver_cu12-11.6.1.9-py3-none-manylinux2014_x86_64.whl.metadata (1.6 kB)\r\n",
      "Collecting nvidia-cusparse-cu12==12.3.1.170 (from torch==2.6.0->torchvision)\r\n",
      "  Downloading nvidia_cusparse_cu12-12.3.1.170-py3-none-manylinux2014_x86_64.whl.metadata (1.6 kB)\r\n",
      "Requirement already satisfied: nvidia-cusparselt-cu12==0.6.2 in /usr/local/lib/python3.11/dist-packages (from torch==2.6.0->torchvision) (0.6.2)\r\n",
      "Requirement already satisfied: nvidia-nccl-cu12==2.21.5 in /usr/local/lib/python3.11/dist-packages (from torch==2.6.0->torchvision) (2.21.5)\r\n",
      "Requirement already satisfied: nvidia-nvtx-cu12==12.4.127 in /usr/local/lib/python3.11/dist-packages (from torch==2.6.0->torchvision) (12.4.127)\r\n",
      "Collecting nvidia-nvjitlink-cu12==12.4.127 (from torch==2.6.0->torchvision)\r\n",
      "  Downloading nvidia_nvjitlink_cu12-12.4.127-py3-none-manylinux2014_x86_64.whl.metadata (1.5 kB)\r\n",
      "Requirement already satisfied: triton==3.2.0 in /usr/local/lib/python3.11/dist-packages (from torch==2.6.0->torchvision) (3.2.0)\r\n",
      "Requirement already satisfied: sympy==1.13.1 in /usr/local/lib/python3.11/dist-packages (from torch==2.6.0->torchvision) (1.13.1)\r\n",
      "Requirement already satisfied: mpmath<1.4,>=1.1.0 in /usr/local/lib/python3.11/dist-packages (from sympy==1.13.1->torch==2.6.0->torchvision) (1.3.0)\r\n",
      "Requirement already satisfied: mkl_fft in /usr/local/lib/python3.11/dist-packages (from numpy->torchvision) (1.3.8)\r\n",
      "Requirement already satisfied: mkl_random in /usr/local/lib/python3.11/dist-packages (from numpy->torchvision) (1.2.4)\r\n",
      "Requirement already satisfied: mkl_umath in /usr/local/lib/python3.11/dist-packages (from numpy->torchvision) (0.1.1)\r\n",
      "Requirement already satisfied: mkl in /usr/local/lib/python3.11/dist-packages (from numpy->torchvision) (2025.2.0)\r\n",
      "Requirement already satisfied: tbb4py in /usr/local/lib/python3.11/dist-packages (from numpy->torchvision) (2022.2.0)\r\n",
      "Requirement already satisfied: mkl-service in /usr/local/lib/python3.11/dist-packages (from numpy->torchvision) (2.4.1)\r\n",
      "Requirement already satisfied: MarkupSafe>=2.0 in /usr/local/lib/python3.11/dist-packages (from jinja2->torch==2.6.0->torchvision) (3.0.2)\r\n",
      "Requirement already satisfied: intel-openmp<2026,>=2024 in /usr/local/lib/python3.11/dist-packages (from mkl->numpy->torchvision) (2024.2.0)\r\n",
      "Requirement already satisfied: tbb==2022.* in /usr/local/lib/python3.11/dist-packages (from mkl->numpy->torchvision) (2022.2.0)\r\n",
      "Requirement already satisfied: tcmlib==1.* in /usr/local/lib/python3.11/dist-packages (from tbb==2022.*->mkl->numpy->torchvision) (1.4.0)\r\n",
      "Requirement already satisfied: intel-cmplr-lib-rt in /usr/local/lib/python3.11/dist-packages (from mkl_umath->numpy->torchvision) (2024.2.0)\r\n",
      "Requirement already satisfied: intel-cmplr-lib-ur==2024.2.0 in /usr/local/lib/python3.11/dist-packages (from intel-openmp<2026,>=2024->mkl->numpy->torchvision) (2024.2.0)\r\n",
      "Downloading nvidia_cublas_cu12-12.4.5.8-py3-none-manylinux2014_x86_64.whl (363.4 MB)\r\n",
      "\u001b[2K   \u001b[90m━━━━━━━━━━━━━━━━━━━━━━━━━━━━━━━━━━━━━━━━\u001b[0m \u001b[32m363.4/363.4 MB\u001b[0m \u001b[31m4.6 MB/s\u001b[0m eta \u001b[36m0:00:00\u001b[0m\r\n",
      "\u001b[?25hDownloading nvidia_cuda_cupti_cu12-12.4.127-py3-none-manylinux2014_x86_64.whl (13.8 MB)\r\n",
      "\u001b[2K   \u001b[90m━━━━━━━━━━━━━━━━━━━━━━━━━━━━━━━━━━━━━━━━\u001b[0m \u001b[32m13.8/13.8 MB\u001b[0m \u001b[31m68.6 MB/s\u001b[0m eta \u001b[36m0:00:00\u001b[0m\r\n",
      "\u001b[?25hDownloading nvidia_cuda_nvrtc_cu12-12.4.127-py3-none-manylinux2014_x86_64.whl (24.6 MB)\r\n",
      "\u001b[2K   \u001b[90m━━━━━━━━━━━━━━━━━━━━━━━━━━━━━━━━━━━━━━━━\u001b[0m \u001b[32m24.6/24.6 MB\u001b[0m \u001b[31m53.4 MB/s\u001b[0m eta \u001b[36m0:00:00\u001b[0m\r\n",
      "\u001b[?25hDownloading nvidia_cuda_runtime_cu12-12.4.127-py3-none-manylinux2014_x86_64.whl (883 kB)\r\n",
      "\u001b[2K   \u001b[90m━━━━━━━━━━━━━━━━━━━━━━━━━━━━━━━━━━━━━━━━\u001b[0m \u001b[32m883.7/883.7 kB\u001b[0m \u001b[31m41.9 MB/s\u001b[0m eta \u001b[36m0:00:00\u001b[0m\r\n",
      "\u001b[?25hDownloading nvidia_cudnn_cu12-9.1.0.70-py3-none-manylinux2014_x86_64.whl (664.8 MB)\r\n",
      "\u001b[2K   \u001b[90m━━━━━━━━━━━━━━━━━━━━━━━━━━━━━━━━━━━━━━━━\u001b[0m \u001b[32m664.8/664.8 MB\u001b[0m \u001b[31m2.3 MB/s\u001b[0m eta \u001b[36m0:00:00\u001b[0m\r\n",
      "\u001b[?25hDownloading nvidia_cufft_cu12-11.2.1.3-py3-none-manylinux2014_x86_64.whl (211.5 MB)\r\n",
      "\u001b[2K   \u001b[90m━━━━━━━━━━━━━━━━━━━━━━━━━━━━━━━━━━━━━━━━\u001b[0m \u001b[32m211.5/211.5 MB\u001b[0m \u001b[31m2.0 MB/s\u001b[0m eta \u001b[36m0:00:00\u001b[0m\r\n",
      "\u001b[?25hDownloading nvidia_curand_cu12-10.3.5.147-py3-none-manylinux2014_x86_64.whl (56.3 MB)\r\n",
      "\u001b[2K   \u001b[90m━━━━━━━━━━━━━━━━━━━━━━━━━━━━━━━━━━━━━━━━\u001b[0m \u001b[32m56.3/56.3 MB\u001b[0m \u001b[31m27.4 MB/s\u001b[0m eta \u001b[36m0:00:00\u001b[0m\r\n",
      "\u001b[?25hDownloading nvidia_cusolver_cu12-11.6.1.9-py3-none-manylinux2014_x86_64.whl (127.9 MB)\r\n",
      "\u001b[2K   \u001b[90m━━━━━━━━━━━━━━━━━━━━━━━━━━━━━━━━━━━━━━━━\u001b[0m \u001b[32m127.9/127.9 MB\u001b[0m \u001b[31m13.1 MB/s\u001b[0m eta \u001b[36m0:00:00\u001b[0m\r\n",
      "\u001b[?25hDownloading nvidia_cusparse_cu12-12.3.1.170-py3-none-manylinux2014_x86_64.whl (207.5 MB)\r\n",
      "\u001b[2K   \u001b[90m━━━━━━━━━━━━━━━━━━━━━━━━━━━━━━━━━━━━━━━━\u001b[0m \u001b[32m207.5/207.5 MB\u001b[0m \u001b[31m8.0 MB/s\u001b[0m eta \u001b[36m0:00:00\u001b[0m\r\n",
      "\u001b[?25hDownloading nvidia_nvjitlink_cu12-12.4.127-py3-none-manylinux2014_x86_64.whl (21.1 MB)\r\n",
      "\u001b[2K   \u001b[90m━━━━━━━━━━━━━━━━━━━━━━━━━━━━━━━━━━━━━━━━\u001b[0m \u001b[32m21.1/21.1 MB\u001b[0m \u001b[31m61.0 MB/s\u001b[0m eta \u001b[36m0:00:00\u001b[0m\r\n",
      "\u001b[?25hInstalling collected packages: nvidia-nvjitlink-cu12, nvidia-curand-cu12, nvidia-cufft-cu12, nvidia-cuda-runtime-cu12, nvidia-cuda-nvrtc-cu12, nvidia-cuda-cupti-cu12, nvidia-cublas-cu12, nvidia-cusparse-cu12, nvidia-cudnn-cu12, nvidia-cusolver-cu12\r\n",
      "  Attempting uninstall: nvidia-nvjitlink-cu12\r\n",
      "    Found existing installation: nvidia-nvjitlink-cu12 12.5.82\r\n",
      "    Uninstalling nvidia-nvjitlink-cu12-12.5.82:\r\n",
      "      Successfully uninstalled nvidia-nvjitlink-cu12-12.5.82\r\n",
      "  Attempting uninstall: nvidia-curand-cu12\r\n",
      "    Found existing installation: nvidia-curand-cu12 10.3.6.82\r\n",
      "    Uninstalling nvidia-curand-cu12-10.3.6.82:\r\n",
      "      Successfully uninstalled nvidia-curand-cu12-10.3.6.82\r\n",
      "  Attempting uninstall: nvidia-cufft-cu12\r\n",
      "    Found existing installation: nvidia-cufft-cu12 11.2.3.61\r\n",
      "    Uninstalling nvidia-cufft-cu12-11.2.3.61:\r\n",
      "      Successfully uninstalled nvidia-cufft-cu12-11.2.3.61\r\n",
      "  Attempting uninstall: nvidia-cuda-runtime-cu12\r\n",
      "    Found existing installation: nvidia-cuda-runtime-cu12 12.5.82\r\n",
      "    Uninstalling nvidia-cuda-runtime-cu12-12.5.82:\r\n",
      "      Successfully uninstalled nvidia-cuda-runtime-cu12-12.5.82\r\n",
      "  Attempting uninstall: nvidia-cuda-nvrtc-cu12\r\n",
      "    Found existing installation: nvidia-cuda-nvrtc-cu12 12.5.82\r\n",
      "    Uninstalling nvidia-cuda-nvrtc-cu12-12.5.82:\r\n",
      "      Successfully uninstalled nvidia-cuda-nvrtc-cu12-12.5.82\r\n",
      "  Attempting uninstall: nvidia-cuda-cupti-cu12\r\n",
      "    Found existing installation: nvidia-cuda-cupti-cu12 12.5.82\r\n",
      "    Uninstalling nvidia-cuda-cupti-cu12-12.5.82:\r\n",
      "      Successfully uninstalled nvidia-cuda-cupti-cu12-12.5.82\r\n",
      "  Attempting uninstall: nvidia-cublas-cu12\r\n",
      "    Found existing installation: nvidia-cublas-cu12 12.5.3.2\r\n",
      "    Uninstalling nvidia-cublas-cu12-12.5.3.2:\r\n",
      "      Successfully uninstalled nvidia-cublas-cu12-12.5.3.2\r\n",
      "  Attempting uninstall: nvidia-cusparse-cu12\r\n",
      "    Found existing installation: nvidia-cusparse-cu12 12.5.1.3\r\n",
      "    Uninstalling nvidia-cusparse-cu12-12.5.1.3:\r\n",
      "      Successfully uninstalled nvidia-cusparse-cu12-12.5.1.3\r\n",
      "  Attempting uninstall: nvidia-cudnn-cu12\r\n",
      "    Found existing installation: nvidia-cudnn-cu12 9.3.0.75\r\n",
      "    Uninstalling nvidia-cudnn-cu12-9.3.0.75:\r\n",
      "      Successfully uninstalled nvidia-cudnn-cu12-9.3.0.75\r\n",
      "  Attempting uninstall: nvidia-cusolver-cu12\r\n",
      "    Found existing installation: nvidia-cusolver-cu12 11.6.3.83\r\n",
      "    Uninstalling nvidia-cusolver-cu12-11.6.3.83:\r\n",
      "      Successfully uninstalled nvidia-cusolver-cu12-11.6.3.83\r\n",
      "Successfully installed nvidia-cublas-cu12-12.4.5.8 nvidia-cuda-cupti-cu12-12.4.127 nvidia-cuda-nvrtc-cu12-12.4.127 nvidia-cuda-runtime-cu12-12.4.127 nvidia-cudnn-cu12-9.1.0.70 nvidia-cufft-cu12-11.2.1.3 nvidia-curand-cu12-10.3.5.147 nvidia-cusolver-cu12-11.6.1.9 nvidia-cusparse-cu12-12.3.1.170 nvidia-nvjitlink-cu12-12.4.127\r\n"
     ]
    }
   ],
   "source": [
    "! pip install torchvision"
   ]
  },
  {
   "cell_type": "code",
   "execution_count": 3,
   "id": "ec6e2f5c",
   "metadata": {
    "execution": {
     "iopub.execute_input": "2025-07-31T19:55:24.814901Z",
     "iopub.status.busy": "2025-07-31T19:55:24.814640Z",
     "iopub.status.idle": "2025-07-31T19:55:33.952751Z",
     "shell.execute_reply": "2025-07-31T19:55:33.952087Z"
    },
    "papermill": {
     "duration": 9.168741,
     "end_time": "2025-07-31T19:55:33.954101",
     "exception": false,
     "start_time": "2025-07-31T19:55:24.785360",
     "status": "completed"
    },
    "tags": []
   },
   "outputs": [],
   "source": [
    "import torch \n",
    "import torch.nn as nn\n",
    "from torch.utils.data import DataLoader\n",
    "from torchvision import datasets, transforms"
   ]
  },
  {
   "cell_type": "code",
   "execution_count": 4,
   "id": "7d390dbb",
   "metadata": {
    "execution": {
     "iopub.execute_input": "2025-07-31T19:55:34.012107Z",
     "iopub.status.busy": "2025-07-31T19:55:34.011340Z",
     "iopub.status.idle": "2025-07-31T19:55:44.388784Z",
     "shell.execute_reply": "2025-07-31T19:55:44.388007Z"
    },
    "papermill": {
     "duration": 10.407122,
     "end_time": "2025-07-31T19:55:44.390165",
     "exception": false,
     "start_time": "2025-07-31T19:55:33.983043",
     "status": "completed"
    },
    "tags": []
   },
   "outputs": [
    {
     "name": "stderr",
     "output_type": "stream",
     "text": [
      "100%|██████████| 9.91M/9.91M [00:01<00:00, 6.08MB/s]\n",
      "100%|██████████| 28.9k/28.9k [00:00<00:00, 160kB/s]\n",
      "100%|██████████| 1.65M/1.65M [00:01<00:00, 1.51MB/s]\n",
      "100%|██████████| 4.54k/4.54k [00:00<00:00, 7.06MB/s]\n"
     ]
    }
   ],
   "source": [
    "transform=transforms.ToTensor()\n",
    "\n",
    "mnist_data=datasets.MNIST(root='./data',train=True,download=True,transform=transform)\n",
    "dataloader=DataLoader(dataset=mnist_data,batch_size=64,shuffle=True)"
   ]
  },
  {
   "cell_type": "code",
   "execution_count": 5,
   "id": "ea4165b8",
   "metadata": {
    "execution": {
     "iopub.execute_input": "2025-07-31T19:55:44.503205Z",
     "iopub.status.busy": "2025-07-31T19:55:44.502524Z",
     "iopub.status.idle": "2025-07-31T19:55:44.534259Z",
     "shell.execute_reply": "2025-07-31T19:55:44.533431Z"
    },
    "papermill": {
     "duration": 0.111986,
     "end_time": "2025-07-31T19:55:44.535520",
     "exception": false,
     "start_time": "2025-07-31T19:55:44.423534",
     "status": "completed"
    },
    "tags": []
   },
   "outputs": [
    {
     "name": "stdout",
     "output_type": "stream",
     "text": [
      "tensor([3, 2, 9, 9, 7, 6, 1, 2, 6, 9, 6, 4, 8, 3, 5, 3, 1, 2, 5, 6, 9, 8, 6, 4,\n",
      "        9, 7, 0, 5, 1, 5, 2, 2, 9, 1, 0, 4, 8, 5, 7, 1, 0, 2, 0, 6, 1, 7, 9, 3,\n",
      "        3, 1, 4, 2, 3, 8, 1, 3, 1, 6, 1, 6, 0, 0, 2, 4])\n"
     ]
    }
   ],
   "source": [
    "for(img,label) in dataloader:\n",
    "    print(label)\n",
    "    break"
   ]
  },
  {
   "cell_type": "code",
   "execution_count": 6,
   "id": "ad5eaf2c",
   "metadata": {
    "execution": {
     "iopub.execute_input": "2025-07-31T19:55:44.595628Z",
     "iopub.status.busy": "2025-07-31T19:55:44.595002Z",
     "iopub.status.idle": "2025-07-31T19:55:44.602202Z",
     "shell.execute_reply": "2025-07-31T19:55:44.601547Z"
    },
    "papermill": {
     "duration": 0.038002,
     "end_time": "2025-07-31T19:55:44.603330",
     "exception": false,
     "start_time": "2025-07-31T19:55:44.565328",
     "status": "completed"
    },
    "tags": []
   },
   "outputs": [],
   "source": [
    "class vae(nn.Module):\n",
    "    def __init__(self):\n",
    "        super().__init__()\n",
    "        self.encoder=nn.Sequential(\n",
    "            nn.Linear(784,512),\n",
    "            nn.ReLU(),\n",
    "            nn.Linear(512,256),\n",
    "            nn.ReLU(),\n",
    "            nn.Linear(256,64),\n",
    "            nn.ReLU()\n",
    "        )\n",
    "        self.mu=nn.Linear(64,12)\n",
    "        self.logvar=nn.Linear(64,12)\n",
    "\n",
    "        self.decoder=nn.Sequential(\n",
    "            nn.Linear(12,64),\n",
    "            nn.ReLU(),\n",
    "            nn.Linear(64,256),\n",
    "            nn.ReLU(),\n",
    "            nn.Linear(256,512),\n",
    "            nn.ReLU(),\n",
    "            nn.Linear(512,784),\n",
    "            nn.Sigmoid()\n",
    "        )\n",
    "    def reparametrize(self,mu,logvar):\n",
    "        lv=torch.exp(0.5*logvar)\n",
    "        e=torch.rand_like(lv)\n",
    "        z=mu+(e*lv)\n",
    "        return z\n",
    "    def forward(self,x):\n",
    "        out=self.encoder(x)\n",
    "        mean=self.mu(out)\n",
    "        std=self.logvar(out)\n",
    "        z=self.reparametrize(mean,std)\n",
    "        out=self.decoder(z)\n",
    "        return out,mean,std"
   ]
  },
  {
   "cell_type": "code",
   "execution_count": 7,
   "id": "9534d027",
   "metadata": {
    "execution": {
     "iopub.execute_input": "2025-07-31T19:55:44.663618Z",
     "iopub.status.busy": "2025-07-31T19:55:44.662998Z",
     "iopub.status.idle": "2025-07-31T19:55:44.666502Z",
     "shell.execute_reply": "2025-07-31T19:55:44.665933Z"
    },
    "papermill": {
     "duration": 0.034456,
     "end_time": "2025-07-31T19:55:44.667601",
     "exception": false,
     "start_time": "2025-07-31T19:55:44.633145",
     "status": "completed"
    },
    "tags": []
   },
   "outputs": [],
   "source": [
    "criterion=nn.BCELoss()"
   ]
  },
  {
   "cell_type": "code",
   "execution_count": 8,
   "id": "06f059a1",
   "metadata": {
    "execution": {
     "iopub.execute_input": "2025-07-31T19:55:44.727253Z",
     "iopub.status.busy": "2025-07-31T19:55:44.726618Z",
     "iopub.status.idle": "2025-07-31T19:55:44.730878Z",
     "shell.execute_reply": "2025-07-31T19:55:44.730294Z"
    },
    "papermill": {
     "duration": 0.035303,
     "end_time": "2025-07-31T19:55:44.731934",
     "exception": false,
     "start_time": "2025-07-31T19:55:44.696631",
     "status": "completed"
    },
    "tags": []
   },
   "outputs": [],
   "source": [
    "bce_loss = nn.BCELoss(reduction='sum')\n",
    "def loss(recon,y,mean,log_var):\n",
    "    bce=bce_loss(recon,y)\n",
    "    KLD = -0.5 * torch.sum(1 + log_var - mean.pow(2) - log_var.exp())\n",
    "    return bce+KLD"
   ]
  },
  {
   "cell_type": "code",
   "execution_count": 9,
   "id": "428eebaf",
   "metadata": {
    "execution": {
     "iopub.execute_input": "2025-07-31T19:55:44.791381Z",
     "iopub.status.busy": "2025-07-31T19:55:44.791161Z",
     "iopub.status.idle": "2025-07-31T19:55:44.863822Z",
     "shell.execute_reply": "2025-07-31T19:55:44.863048Z"
    },
    "papermill": {
     "duration": 0.103958,
     "end_time": "2025-07-31T19:55:44.864944",
     "exception": false,
     "start_time": "2025-07-31T19:55:44.760986",
     "status": "completed"
    },
    "tags": []
   },
   "outputs": [],
   "source": [
    "device = torch.device(\"cuda\" if torch.cuda.is_available() else \"cpu\")\n"
   ]
  },
  {
   "cell_type": "code",
   "execution_count": 10,
   "id": "c7124a89",
   "metadata": {
    "execution": {
     "iopub.execute_input": "2025-07-31T19:55:44.924571Z",
     "iopub.status.busy": "2025-07-31T19:55:44.924135Z",
     "iopub.status.idle": "2025-07-31T19:55:45.102168Z",
     "shell.execute_reply": "2025-07-31T19:55:45.101382Z"
    },
    "papermill": {
     "duration": 0.209184,
     "end_time": "2025-07-31T19:55:45.103694",
     "exception": false,
     "start_time": "2025-07-31T19:55:44.894510",
     "status": "completed"
    },
    "tags": []
   },
   "outputs": [],
   "source": [
    "model=vae().to(device)\n",
    "optimizer=torch.optim.Adam(model.parameters(),lr=1e-4)\n",
    "epochs=30"
   ]
  },
  {
   "cell_type": "code",
   "execution_count": 11,
   "id": "64de8723",
   "metadata": {
    "execution": {
     "iopub.execute_input": "2025-07-31T19:55:45.163979Z",
     "iopub.status.busy": "2025-07-31T19:55:45.163333Z",
     "iopub.status.idle": "2025-07-31T19:59:37.046465Z",
     "shell.execute_reply": "2025-07-31T19:59:37.045590Z"
    },
    "papermill": {
     "duration": 231.914389,
     "end_time": "2025-07-31T19:59:37.047749",
     "exception": false,
     "start_time": "2025-07-31T19:55:45.133360",
     "status": "completed"
    },
    "tags": []
   },
   "outputs": [
    {
     "name": "stdout",
     "output_type": "stream",
     "text": [
      "Epoch 1, Loss: 212.6962\n",
      "Epoch 2, Loss: 163.2651\n",
      "Epoch 3, Loss: 142.5361\n",
      "Epoch 4, Loss: 130.3078\n",
      "Epoch 5, Loss: 124.0245\n",
      "Epoch 6, Loss: 119.1515\n",
      "Epoch 7, Loss: 115.9427\n",
      "Epoch 8, Loss: 113.2707\n",
      "Epoch 9, Loss: 110.9824\n",
      "Epoch 10, Loss: 109.2466\n",
      "Epoch 11, Loss: 107.8011\n",
      "Epoch 12, Loss: 106.5552\n",
      "Epoch 13, Loss: 105.4462\n",
      "Epoch 14, Loss: 104.3286\n",
      "Epoch 15, Loss: 103.1618\n",
      "Epoch 16, Loss: 101.9857\n",
      "Epoch 17, Loss: 100.9915\n",
      "Epoch 18, Loss: 100.0972\n",
      "Epoch 19, Loss: 99.2928\n",
      "Epoch 20, Loss: 98.5988\n",
      "Epoch 21, Loss: 97.9476\n",
      "Epoch 22, Loss: 97.3152\n",
      "Epoch 23, Loss: 96.7975\n",
      "Epoch 24, Loss: 96.2864\n",
      "Epoch 25, Loss: 95.8016\n",
      "Epoch 26, Loss: 95.3879\n",
      "Epoch 27, Loss: 95.0114\n",
      "Epoch 28, Loss: 94.6202\n",
      "Epoch 29, Loss: 94.2696\n",
      "Epoch 30, Loss: 93.9043\n"
     ]
    }
   ],
   "source": [
    "for epoch in range(epochs):\n",
    "    total_loss=0\n",
    "    for(img,_) in dataloader:\n",
    "        img=img.reshape(-1,28*28)\n",
    "        img=img.to(device)\n",
    "        optimizer.zero_grad()\n",
    "        recon, mu, logvar = model(img)\n",
    "        model_loss=loss(recon,img,mu,logvar)\n",
    "        model_loss.backward()\n",
    "        optimizer.step()\n",
    "        total_loss += model_loss.item()\n",
    "    print(f\"Epoch {epoch+1}, Loss: {total_loss / len(dataloader.dataset):.4f}\")"
   ]
  },
  {
   "cell_type": "code",
   "execution_count": 12,
   "id": "ef50a7d0",
   "metadata": {
    "execution": {
     "iopub.execute_input": "2025-07-31T19:59:37.112473Z",
     "iopub.status.busy": "2025-07-31T19:59:37.112178Z",
     "iopub.status.idle": "2025-07-31T19:59:37.115621Z",
     "shell.execute_reply": "2025-07-31T19:59:37.115052Z"
    },
    "papermill": {
     "duration": 0.036524,
     "end_time": "2025-07-31T19:59:37.116621",
     "exception": false,
     "start_time": "2025-07-31T19:59:37.080097",
     "status": "completed"
    },
    "tags": []
   },
   "outputs": [],
   "source": [
    "import matplotlib.pyplot as plt\n"
   ]
  },
  {
   "cell_type": "code",
   "execution_count": 13,
   "id": "7b6b31ab",
   "metadata": {
    "execution": {
     "iopub.execute_input": "2025-07-31T19:59:37.179883Z",
     "iopub.status.busy": "2025-07-31T19:59:37.179275Z",
     "iopub.status.idle": "2025-07-31T19:59:37.195601Z",
     "shell.execute_reply": "2025-07-31T19:59:37.194937Z"
    },
    "papermill": {
     "duration": 0.049332,
     "end_time": "2025-07-31T19:59:37.196920",
     "exception": false,
     "start_time": "2025-07-31T19:59:37.147588",
     "status": "completed"
    },
    "tags": []
   },
   "outputs": [],
   "source": [
    "mnist_test_data=datasets.MNIST(root='./data',train=False,download=True,transform=transform)\n",
    "test_loader=DataLoader(dataset=mnist_data,batch_size=64,shuffle=True)"
   ]
  },
  {
   "cell_type": "code",
   "execution_count": 14,
   "id": "e6319fd9",
   "metadata": {
    "execution": {
     "iopub.execute_input": "2025-07-31T19:59:37.261677Z",
     "iopub.status.busy": "2025-07-31T19:59:37.261159Z",
     "iopub.status.idle": "2025-07-31T19:59:37.275929Z",
     "shell.execute_reply": "2025-07-31T19:59:37.275397Z"
    },
    "papermill": {
     "duration": 0.04745,
     "end_time": "2025-07-31T19:59:37.277022",
     "exception": false,
     "start_time": "2025-07-31T19:59:37.229572",
     "status": "completed"
    },
    "tags": []
   },
   "outputs": [],
   "source": [
    "model.eval()\n",
    "with torch.no_grad():\n",
    "    for (img,_) in test_loader:\n",
    "        img=img.reshape(-1,28*28)\n",
    "        img=img.to(device)\n",
    "        x_hat,_,_=model(img)\n",
    "        break\n",
    "        "
   ]
  },
  {
   "cell_type": "code",
   "execution_count": 15,
   "id": "0ac5dac8",
   "metadata": {
    "execution": {
     "iopub.execute_input": "2025-07-31T19:59:37.340386Z",
     "iopub.status.busy": "2025-07-31T19:59:37.340135Z",
     "iopub.status.idle": "2025-07-31T19:59:37.513084Z",
     "shell.execute_reply": "2025-07-31T19:59:37.512413Z"
    },
    "papermill": {
     "duration": 0.205825,
     "end_time": "2025-07-31T19:59:37.514162",
     "exception": false,
     "start_time": "2025-07-31T19:59:37.308337",
     "status": "completed"
    },
    "tags": []
   },
   "outputs": [
    {
     "data": {
      "image/png": "[encoded data removed]",
      "text/plain": [
       "<Figure size 1600x400 with 2 Axes>"
      ]
     },
     "metadata": {},
     "output_type": "display_data"
    }
   ],
   "source": [
    "\n",
    "original = img.cpu().view(-1, 28, 28)\n",
    "reconstructed = x_hat.cpu().view(-1, 28, 28)\n",
    "\n",
    "n = 8\n",
    "plt.figure(figsize=(16, 4))\n",
    "\n",
    "for i in range(n):\n",
    "    plt.subplot(2, n, i + 1)\n",
    "    plt.imshow(original[i], cmap='gray')\n",
    "    plt.title(\"Original\")\n",
    "    plt.axis('off')\n",
    "\n",
    "    plt.subplot(2, n, i + 1 + n)\n",
    "    plt.imshow(reconstructed[i], cmap='gray')\n",
    "    plt.title(\"Reconstructed\")\n",
    "    plt.axis('off')\n",
    "    break\n",
    "\n",
    "plt.tight_layout()\n",
    "plt.show()\n"
   ]
  },
  {
   "cell_type": "code",
   "execution_count": 16,
   "id": "59597962",
   "metadata": {
    "execution": {
     "iopub.execute_input": "2025-07-31T19:59:37.578506Z",
     "iopub.status.busy": "2025-07-31T19:59:37.578239Z",
     "iopub.status.idle": "2025-07-31T19:59:37.583267Z",
     "shell.execute_reply": "2025-07-31T19:59:37.582579Z"
    },
    "papermill": {
     "duration": 0.037956,
     "end_time": "2025-07-31T19:59:37.584516",
     "exception": false,
     "start_time": "2025-07-31T19:59:37.546560",
     "status": "completed"
    },
    "tags": []
   },
   "outputs": [],
   "source": [
    "from torchvision.utils import save_image, make_grid\n",
    "with torch.no_grad():\n",
    "    noise = torch.randn(64, 12).to(device)\n",
    "    generated_images = model.decoder(noise)"
   ]
  },
  {
   "cell_type": "code",
   "execution_count": 17,
   "id": "ac0d698a",
   "metadata": {
    "execution": {
     "iopub.execute_input": "2025-07-31T19:59:37.647288Z",
     "iopub.status.busy": "2025-07-31T19:59:37.647063Z",
     "iopub.status.idle": "2025-07-31T19:59:37.693091Z",
     "shell.execute_reply": "2025-07-31T19:59:37.692523Z"
    },
    "papermill": {
     "duration": 0.079206,
     "end_time": "2025-07-31T19:59:37.694356",
     "exception": false,
     "start_time": "2025-07-31T19:59:37.615150",
     "status": "completed"
    },
    "tags": []
   },
   "outputs": [],
   "source": [
    "save_image(generated_images.view(64, 1, 28, 28), 'generated_sample.png')\n"
   ]
  },
  {
   "cell_type": "code",
   "execution_count": 18,
   "id": "83f614c2",
   "metadata": {
    "execution": {
     "iopub.execute_input": "2025-07-31T19:59:37.756742Z",
     "iopub.status.busy": "2025-07-31T19:59:37.756489Z",
     "iopub.status.idle": "2025-07-31T19:59:37.760463Z",
     "shell.execute_reply": "2025-07-31T19:59:37.759748Z"
    },
    "papermill": {
     "duration": 0.036208,
     "end_time": "2025-07-31T19:59:37.761729",
     "exception": false,
     "start_time": "2025-07-31T19:59:37.725521",
     "status": "completed"
    },
    "tags": []
   },
   "outputs": [],
   "source": [
    "def show_image(x, idx):\n",
    "    x = x.view(64, 28, 28)\n",
    "\n",
    "    fig = plt.figure()\n",
    "    plt.imshow(x[idx].cpu().numpy())\n"
   ]
  },
  {
   "cell_type": "code",
   "execution_count": 19,
   "id": "70c24c87",
   "metadata": {
    "execution": {
     "iopub.execute_input": "2025-07-31T19:59:37.824518Z",
     "iopub.status.busy": "2025-07-31T19:59:37.823744Z",
     "iopub.status.idle": "2025-07-31T19:59:37.962664Z",
     "shell.execute_reply": "2025-07-31T19:59:37.962054Z"
    },
    "papermill": {
     "duration": 0.171391,
     "end_time": "2025-07-31T19:59:37.963823",
     "exception": false,
     "start_time": "2025-07-31T19:59:37.792432",
     "status": "completed"
    },
    "tags": []
   },
   "outputs": [
    {
     "data": {
      "image/png": "[encoded data removed]",
      "text/plain": [
       "<Figure size 640x480 with 1 Axes>"
      ]
     },
     "metadata": {},
     "output_type": "display_data"
    }
   ],
   "source": [
    "show_image(generated_images, idx=1)\n"
   ]
  },
  {
   "cell_type": "code",
   "execution_count": 20,
   "id": "753909a7",
   "metadata": {
    "execution": {
     "iopub.execute_input": "2025-07-31T19:59:38.028221Z",
     "iopub.status.busy": "2025-07-31T19:59:38.027772Z",
     "iopub.status.idle": "2025-07-31T19:59:38.155198Z",
     "shell.execute_reply": "2025-07-31T19:59:38.154506Z"
    },
    "papermill": {
     "duration": 0.161403,
     "end_time": "2025-07-31T19:59:38.156405",
     "exception": false,
     "start_time": "2025-07-31T19:59:37.995002",
     "status": "completed"
    },
    "tags": []
   },
   "outputs": [
    {
     "data": {
      "image/png": "[encoded data removed]",
      "text/plain": [
       "<Figure size 640x480 with 1 Axes>"
      ]
     },
     "metadata": {},
     "output_type": "display_data"
    }
   ],
   "source": [
    "show_image(generated_images, idx=2)\n"
   ]
  },
  {
   "cell_type": "code",
   "execution_count": 21,
   "id": "3c069920",
   "metadata": {
    "execution": {
     "iopub.execute_input": "2025-07-31T19:59:38.220493Z",
     "iopub.status.busy": "2025-07-31T19:59:38.219868Z",
     "iopub.status.idle": "2025-07-31T19:59:38.347442Z",
     "shell.execute_reply": "2025-07-31T19:59:38.346714Z"
    },
    "papermill": {
     "duration": 0.16026,
     "end_time": "2025-07-31T19:59:38.348783",
     "exception": false,
     "start_time": "2025-07-31T19:59:38.188523",
     "status": "completed"
    },
    "tags": []
   },
   "outputs": [
    {
     "data": {
      "image/png": "[encoded data removed]",
      "text/plain": [
       "<Figure size 640x480 with 1 Axes>"
      ]
     },
     "metadata": {},
     "output_type": "display_data"
    }
   ],
   "source": [
    "show_image(generated_images, idx=3)\n"
   ]
  },
  {
   "cell_type": "code",
   "execution_count": 22,
   "id": "09bd2a6d",
   "metadata": {
    "execution": {
     "iopub.execute_input": "2025-07-31T19:59:38.412292Z",
     "iopub.status.busy": "2025-07-31T19:59:38.412041Z",
     "iopub.status.idle": "2025-07-31T19:59:38.542272Z",
     "shell.execute_reply": "2025-07-31T19:59:38.541630Z"
    },
    "papermill": {
     "duration": 0.162978,
     "end_time": "2025-07-31T19:59:38.543469",
     "exception": false,
     "start_time": "2025-07-31T19:59:38.380491",
     "status": "completed"
    },
    "tags": []
   },
   "outputs": [
    {
     "data": {
      "image/png": "[encoded data removed]",
      "text/plain": [
       "<Figure size 640x480 with 1 Axes>"
      ]
     },
     "metadata": {},
     "output_type": "display_data"
    }
   ],
   "source": [
    "show_image(generated_images, idx=4)\n"
   ]
  },
  {
   "cell_type": "code",
   "execution_count": 23,
   "id": "be7e9433",
   "metadata": {
    "execution": {
     "iopub.execute_input": "2025-07-31T19:59:38.608106Z",
     "iopub.status.busy": "2025-07-31T19:59:38.607850Z",
     "iopub.status.idle": "2025-07-31T19:59:38.733258Z",
     "shell.execute_reply": "2025-07-31T19:59:38.732551Z"
    },
    "papermill": {
     "duration": 0.158308,
     "end_time": "2025-07-31T19:59:38.734449",
     "exception": false,
     "start_time": "2025-07-31T19:59:38.576141",
     "status": "completed"
    },
    "tags": []
   },
   "outputs": [
    {
     "data": {
      "image/png": "[encoded data removed]",
      "text/plain": [
       "<Figure size 640x480 with 1 Axes>"
      ]
     },
     "metadata": {},
     "output_type": "display_data"
    }
   ],
   "source": [
    "show_image(generated_images, idx=5)\n"
   ]
  },
  {
   "cell_type": "code",
   "execution_count": 24,
   "id": "e6615f56",
   "metadata": {
    "execution": {
     "iopub.execute_input": "2025-07-31T19:59:38.800013Z",
     "iopub.status.busy": "2025-07-31T19:59:38.799770Z",
     "iopub.status.idle": "2025-07-31T19:59:38.926954Z",
     "shell.execute_reply": "2025-07-31T19:59:38.926264Z"
    },
    "papermill": {
     "duration": 0.160809,
     "end_time": "2025-07-31T19:59:38.928056",
     "exception": false,
     "start_time": "2025-07-31T19:59:38.767247",
     "status": "completed"
    },
    "tags": []
   },
   "outputs": [
    {
     "data": {
      "image/png": "[encoded data removed]",
      "text/plain": [
       "<Figure size 640x480 with 1 Axes>"
      ]
     },
     "metadata": {},
     "output_type": "display_data"
    }
   ],
   "source": [
    "show_image(generated_images, idx=6)\n"
   ]
  },
  {
   "cell_type": "code",
   "execution_count": 25,
   "id": "c2c6bd90",
   "metadata": {
    "execution": {
     "iopub.execute_input": "2025-07-31T19:59:38.993035Z",
     "iopub.status.busy": "2025-07-31T19:59:38.992789Z",
     "iopub.status.idle": "2025-07-31T19:59:39.121598Z",
     "shell.execute_reply": "2025-07-31T19:59:39.120837Z"
    },
    "papermill": {
     "duration": 0.162235,
     "end_time": "2025-07-31T19:59:39.122782",
     "exception": false,
     "start_time": "2025-07-31T19:59:38.960547",
     "status": "completed"
    },
    "tags": []
   },
   "outputs": [
    {
     "data": {
      "image/png": "[encoded data removed]",
      "text/plain": [
       "<Figure size 640x480 with 1 Axes>"
      ]
     },
     "metadata": {},
     "output_type": "display_data"
    }
   ],
   "source": [
    "show_image(generated_images, idx=7)\n"
   ]
  },
  {
   "cell_type": "code",
   "execution_count": 26,
   "id": "e1e1ad1d",
   "metadata": {
    "execution": {
     "iopub.execute_input": "2025-07-31T19:59:39.193121Z",
     "iopub.status.busy": "2025-07-31T19:59:39.192530Z",
     "iopub.status.idle": "2025-07-31T19:59:39.341575Z",
     "shell.execute_reply": "2025-07-31T19:59:39.340843Z"
    },
    "papermill": {
     "duration": 0.183055,
     "end_time": "2025-07-31T19:59:39.342689",
     "exception": false,
     "start_time": "2025-07-31T19:59:39.159634",
     "status": "completed"
    },
    "tags": []
   },
   "outputs": [
    {
     "data": {
      "image/png": "[encoded data removed]",
      "text/plain": [
       "<Figure size 640x480 with 1 Axes>"
      ]
     },
     "metadata": {},
     "output_type": "display_data"
    }
   ],
   "source": [
    "show_image(generated_images, idx=8)\n"
   ]
  },
  {
   "cell_type": "code",
   "execution_count": 27,
   "id": "d7ec4c54",
   "metadata": {
    "execution": {
     "iopub.execute_input": "2025-07-31T19:59:39.409424Z",
     "iopub.status.busy": "2025-07-31T19:59:39.408966Z",
     "iopub.status.idle": "2025-07-31T19:59:39.537698Z",
     "shell.execute_reply": "2025-07-31T19:59:39.537095Z"
    },
    "papermill": {
     "duration": 0.163273,
     "end_time": "2025-07-31T19:59:39.539030",
     "exception": false,
     "start_time": "2025-07-31T19:59:39.375757",
     "status": "completed"
    },
    "tags": []
   },
   "outputs": [
    {
     "data": {
      "image/png": "[encoded data removed]",
      "text/plain": [
       "<Figure size 640x480 with 1 Axes>"
      ]
     },
     "metadata": {},
     "output_type": "display_data"
    }
   ],
   "source": [
    "show_image(generated_images, idx=9)\n"
   ]
  },
  {
   "cell_type": "code",
   "execution_count": 28,
   "id": "666bf32e",
   "metadata": {
    "execution": {
     "iopub.execute_input": "2025-07-31T19:59:39.605149Z",
     "iopub.status.busy": "2025-07-31T19:59:39.604909Z",
     "iopub.status.idle": "2025-07-31T19:59:39.729879Z",
     "shell.execute_reply": "2025-07-31T19:59:39.729221Z"
    },
    "papermill": {
     "duration": 0.158647,
     "end_time": "2025-07-31T19:59:39.730986",
     "exception": false,
     "start_time": "2025-07-31T19:59:39.572339",
     "status": "completed"
    },
    "tags": []
   },
   "outputs": [
    {
     "data": {
      "image/png": "[encoded data removed]",
      "text/plain": [
       "<Figure size 640x480 with 1 Axes>"
      ]
     },
     "metadata": {},
     "output_type": "display_data"
    }
   ],
   "source": [
    "show_image(generated_images, idx=10)\n"
   ]
  },
  {
   "cell_type": "code",
   "execution_count": 29,
   "id": "10dc0d13",
   "metadata": {
    "execution": {
     "iopub.execute_input": "2025-07-31T19:59:39.797888Z",
     "iopub.status.busy": "2025-07-31T19:59:39.797654Z",
     "iopub.status.idle": "2025-07-31T19:59:39.924897Z",
     "shell.execute_reply": "2025-07-31T19:59:39.924201Z"
    },
    "papermill": {
     "duration": 0.16213,
     "end_time": "2025-07-31T19:59:39.926031",
     "exception": false,
     "start_time": "2025-07-31T19:59:39.763901",
     "status": "completed"
    },
    "tags": []
   },
   "outputs": [
    {
     "data": {
      "image/png": "[encoded data removed]",
      "text/plain": [
       "<Figure size 640x480 with 1 Axes>"
      ]
     },
     "metadata": {},
     "output_type": "display_data"
    }
   ],
   "source": [
    "show_image(generated_images, idx=11)\n"
   ]
  },
  {
   "cell_type": "code",
   "execution_count": 30,
   "id": "ace0595c",
   "metadata": {
    "execution": {
     "iopub.execute_input": "2025-07-31T19:59:39.993755Z",
     "iopub.status.busy": "2025-07-31T19:59:39.993066Z",
     "iopub.status.idle": "2025-07-31T19:59:40.120417Z",
     "shell.execute_reply": "2025-07-31T19:59:40.119727Z"
    },
    "papermill": {
     "duration": 0.162098,
     "end_time": "2025-07-31T19:59:40.121652",
     "exception": false,
     "start_time": "2025-07-31T19:59:39.959554",
     "status": "completed"
    },
    "tags": []
   },
   "outputs": [
    {
     "data": {
      "image/png": "[encoded data removed]",
      "text/plain": [
       "<Figure size 640x480 with 1 Axes>"
      ]
     },
     "metadata": {},
     "output_type": "display_data"
    }
   ],
   "source": [
    "show_image(generated_images, idx=12)\n"
   ]
  },
  {
   "cell_type": "code",
   "execution_count": 31,
   "id": "3c369971",
   "metadata": {
    "execution": {
     "iopub.execute_input": "2025-07-31T19:59:40.189099Z",
     "iopub.status.busy": "2025-07-31T19:59:40.188781Z",
     "iopub.status.idle": "2025-07-31T19:59:40.320053Z",
     "shell.execute_reply": "2025-07-31T19:59:40.319338Z"
    },
    "papermill": {
     "duration": 0.165823,
     "end_time": "2025-07-31T19:59:40.321176",
     "exception": false,
     "start_time": "2025-07-31T19:59:40.155353",
     "status": "completed"
    },
    "tags": []
   },
   "outputs": [
    {
     "data": {
      "image/png": "[encoded data removed]",
      "text/plain": [
       "<Figure size 640x480 with 1 Axes>"
      ]
     },
     "metadata": {},
     "output_type": "display_data"
    }
   ],
   "source": [
    "show_image(generated_images, idx=13)\n"
   ]
  },
  {
   "cell_type": "code",
   "execution_count": null,
   "id": "80a38ca1",
   "metadata": {
    "papermill": {
     "duration": 0.032675,
     "end_time": "2025-07-31T19:59:40.388238",
     "exception": false,
     "start_time": "2025-07-31T19:59:40.355563",
     "status": "completed"
    },
    "tags": []
   },
   "outputs": [],
   "source": []
  }
 ],
 "metadata": {
  "kaggle": {
   "accelerator": "gpu",
   "dataSources": [
    {
     "databundleVersionId": 861823,
     "sourceId": 3004,
     "sourceType": "competition"
    }
   ],
   "dockerImageVersionId": 31090,
   "isGpuEnabled": true,
   "isInternetEnabled": true,
   "language": "python",
   "sourceType": "notebook"
  },
  "kernelspec": {
   "display_name": "Python 3",
   "language": "python",
   "name": "python3"
  },
  "language_info": {
   "codemirror_mode": {
    "name": "ipython",
    "version": 3
   },
   "file_extension": ".py",
   "mimetype": "text/x-python",
   "name": "python",
   "nbconvert_exporter": "python",
   "pygments_lexer": "ipython3",
   "version": "3.11.13"
  },
  "papermill": {
   "default_parameters": {},
   "duration": 340.331954,
   "end_time": "2025-07-31T19:59:42.643746",
   "environment_variables": {},
   "exception": null,
   "input_path": "__notebook__.ipynb",
   "output_path": "__notebook__.ipynb",
   "parameters": {},
   "start_time": "2025-07-31T19:54:02.311792",
   "version": "2.6.0"
  }
 },
 "nbformat": 4,
 "nbformat_minor": 5
}
